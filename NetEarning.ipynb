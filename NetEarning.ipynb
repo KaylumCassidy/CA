{
  "nbformat": 4,
  "nbformat_minor": 0,
  "metadata": {
    "colab": {
      "name": "NetEarning.ipynb",
      "provenance": [],
      "collapsed_sections": [],
      "authorship_tag": "ABX9TyOxHDVDovj4+etFeS/sTmsF",
      "include_colab_link": true
    },
    "kernelspec": {
      "name": "ir",
      "display_name": "R"
    },
    "language_info": {
      "name": "R"
    }
  },
  "cells": [
    {
      "cell_type": "markdown",
      "metadata": {
        "id": "view-in-github",
        "colab_type": "text"
      },
      "source": [
        "<a href=\"https://colab.research.google.com/github/KaylumCassidy/CA/blob/main/NetEarning.ipynb\" target=\"_parent\"><img src=\"https://colab.research.google.com/assets/colab-badge.svg\" alt=\"Open In Colab\"/></a>"
      ]
    },
    {
      "cell_type": "markdown",
      "source": [
        "### Annaul Net Earning 2012-2018\n"
      ],
      "metadata": {
        "id": "Y1X0JbWkfrhV"
      }
    },
    {
      "cell_type": "markdown",
      "source": [
        "Net income on average of each counties yearly"
      ],
      "metadata": {
        "id": "kIHH9UtyiQTT"
      }
    },
    {
      "cell_type": "code",
      "source": [
        "library(readr)\n",
        "library(mgcv)\n"
      ],
      "metadata": {
        "id": "LUZrxK8Mz7Co"
      },
      "execution_count": 17,
      "outputs": []
    },
    {
      "cell_type": "code",
      "source": [
        "install.packages(\"forecast\")\n",
        "\n"
      ],
      "metadata": {
        "id": "FX7hrCEU4heV"
      },
      "execution_count": 15,
      "outputs": []
    },
    {
      "cell_type": "code",
      "source": [
        "install.packages(\"tseries\")"
      ],
      "metadata": {
        "colab": {
          "base_uri": "https://localhost:8080/"
        },
        "id": "hDE3H_Iq5gVx",
        "outputId": "c1be893a-0f77-4edd-8c57-f041429c414d"
      },
      "execution_count": 18,
      "outputs": [
        {
          "output_type": "stream",
          "name": "stderr",
          "text": [
            "Installing package into ‘/usr/local/lib/R/site-library’\n",
            "(as ‘lib’ is unspecified)\n",
            "\n"
          ]
        }
      ]
    },
    {
      "cell_type": "code",
      "source": [
        "library(forecast)"
      ],
      "metadata": {
        "colab": {
          "base_uri": "https://localhost:8080/"
        },
        "id": "klTczLKN5Zwd",
        "outputId": "3596f212-715c-4d6b-a569-a72b7abc14d3"
      },
      "execution_count": 16,
      "outputs": [
        {
          "output_type": "stream",
          "name": "stderr",
          "text": [
            "Registered S3 method overwritten by 'quantmod':\n",
            "  method            from\n",
            "  as.zoo.data.frame zoo \n",
            "\n",
            "\n",
            "Attaching package: ‘forecast’\n",
            "\n",
            "\n",
            "The following object is masked from ‘package:nlme’:\n",
            "\n",
            "    getResponse\n",
            "\n",
            "\n"
          ]
        }
      ]
    },
    {
      "cell_type": "code",
      "source": [
        "library(tseries)"
      ],
      "metadata": {
        "id": "Yxx4Y47H5fC5"
      },
      "execution_count": 19,
      "outputs": []
    },
    {
      "cell_type": "code",
      "execution_count": 71,
      "metadata": {
        "id": "u1EZ-uUUTo6Q"
      },
      "outputs": [],
      "source": [
        "# https://ec.europa.eu/eurostat/databrowser/view/EARN_NT_NET/default/table?lang=en&category=labour.earn.earn_net\n",
        "url='https://raw.githubusercontent.com/KaylumCassidy/CA/main/NetEraning.csv'\n",
        "\n",
        "data = read.csv(url,header=T)"
      ]
    },
    {
      "cell_type": "code",
      "source": [
        "head(data)"
      ],
      "metadata": {
        "colab": {
          "base_uri": "https://localhost:8080/",
          "height": 286
        },
        "id": "x426euuQTyvR",
        "outputId": "cd53451a-e13a-4088-f26a-011f1bbcaba3"
      },
      "execution_count": 65,
      "outputs": [
        {
          "output_type": "display_data",
          "data": {
            "text/html": [
              "<table class=\"dataframe\">\n",
              "<caption>A data.frame: 6 × 39</caption>\n",
              "<thead>\n",
              "\t<tr><th></th><th scope=col>TIME</th><th scope=col>European.Union...27.countries..from.2020.</th><th scope=col>European.Union...28.countries..2013.2020.</th><th scope=col>European.Union...15.countries..1995.2004.</th><th scope=col>Euro.area...19.countries...from.2015.</th><th scope=col>Belgium</th><th scope=col>Bulgaria</th><th scope=col>Czechia</th><th scope=col>Denmark</th><th scope=col>Germany..until.1990.former.territory.of.the.FRG.</th><th scope=col>⋯</th><th scope=col>Slovakia</th><th scope=col>Finland</th><th scope=col>Sweden</th><th scope=col>Iceland</th><th scope=col>Norway</th><th scope=col>Switzerland</th><th scope=col>United.Kingdom</th><th scope=col>Turkey</th><th scope=col>United.States</th><th scope=col>Japan</th></tr>\n",
              "\t<tr><th></th><th scope=col>&lt;int&gt;</th><th scope=col>&lt;chr&gt;</th><th scope=col>&lt;chr&gt;</th><th scope=col>&lt;chr&gt;</th><th scope=col>&lt;chr&gt;</th><th scope=col>&lt;chr&gt;</th><th scope=col>&lt;chr&gt;</th><th scope=col>&lt;chr&gt;</th><th scope=col>&lt;chr&gt;</th><th scope=col>&lt;chr&gt;</th><th scope=col>⋯</th><th scope=col>&lt;chr&gt;</th><th scope=col>&lt;chr&gt;</th><th scope=col>&lt;chr&gt;</th><th scope=col>&lt;chr&gt;</th><th scope=col>&lt;chr&gt;</th><th scope=col>&lt;chr&gt;</th><th scope=col>&lt;chr&gt;</th><th scope=col>&lt;chr&gt;</th><th scope=col>&lt;chr&gt;</th><th scope=col>&lt;chr&gt;</th></tr>\n",
              "</thead>\n",
              "<tbody>\n",
              "\t<tr><th scope=row>1</th><td>2012</td><td>         </td><td>         </td><td>14,839.67</td><td>13,578.89</td><td>16,628.54</td><td>1,799.23</td><td>5,131.47</td><td>18,017.05</td><td>15,281.22</td><td>⋯</td><td>4,244.89</td><td>17,022.24</td><td>17,836.31</td><td>15,475.24</td><td>26,292.05</td><td>32,470.07</td><td>17,743.12</td><td>3,744.58</td><td>15,099.45</td><td>19,341.43</td></tr>\n",
              "\t<tr><th scope=row>2</th><td>2013</td><td>12,061.10</td><td>12,812.83</td><td>15,014.48</td><td>13,842.54</td><td>17,057.94</td><td>1,899.03</td><td>4,958.95</td><td>18,200.41</td><td>15,528.82</td><td>⋯</td><td>4,323.21</td><td>17,220.64</td><td>18,368.84</td><td>16,509.42</td><td>26,189.65</td><td>32,114.13</td><td>17,366.32</td><td>3,828.92</td><td>14,584.84</td><td>15,070.71</td></tr>\n",
              "\t<tr><th scope=row>3</th><td>2014</td><td>12,316.46</td><td>13,191.90</td><td>15,474.12</td><td>14,178.34</td><td>17,200.17</td><td>2,016.86</td><td>4,788.23</td><td>18,453.01</td><td>15,896.52</td><td>⋯</td><td>4,486.48</td><td>17,275.45</td><td>18,036.38</td><td>18,605.36</td><td>25,156.80</td><td>31,366.61</td><td>18,478.04</td><td>3,700.39</td><td>14,955.59</td><td>14,271.45</td></tr>\n",
              "\t<tr><th scope=row>4</th><td>2015</td><td>12,485.30</td><td>13,716.33</td><td>16,102.72</td><td>14,384.84</td><td>17,433.61</td><td>2,169.57</td><td>4,959.67</td><td>18,632.53</td><td>16,254.16</td><td>⋯</td><td>4,662.07</td><td>17,464.81</td><td>17,756.62</td><td>20,813.95</td><td>24,251.43</td><td>35,555.48</td><td>21,106.19</td><td>4,021.79</td><td>18,211.87</td><td>15,201.86</td></tr>\n",
              "\t<tr><th scope=row>5</th><td>2016</td><td>12,791.48</td><td>13,707.31</td><td>16,059.12</td><td>14,744.53</td><td>18,256.11</td><td>2,344.52</td><td>5,184.11</td><td>18,812.99</td><td>16,576.26</td><td>⋯</td><td>4,765.36</td><td>17,803.59</td><td>17,927.48</td><td>24,428.87</td><td>23,948.86</td><td>35,833.52</td><td>19,258.41</td><td>4,437.46</td><td>18,577.30</td><td>17,148.59</td></tr>\n",
              "\t<tr><th scope=row>6</th><td>2017</td><td>12,979.78</td><td>13,781.61</td><td>16,084.43</td><td>14,907.06</td><td>18,658.25</td><td>2,566.37</td><td>5,620.21</td><td>19,108.75</td><td>16,849.06</td><td>⋯</td><td>4,904.54</td><td>18,095.29</td><td>18,036.92</td><td>27,744.23</td><td>24,390.44</td><td>35,302.06</td><td>18,680.71</td><td>3,980.39</td><td>18,658.96</td><td>16,281.16</td></tr>\n",
              "</tbody>\n",
              "</table>\n"
            ],
            "text/markdown": "\nA data.frame: 6 × 39\n\n| <!--/--> | TIME &lt;int&gt; | European.Union...27.countries..from.2020. &lt;chr&gt; | European.Union...28.countries..2013.2020. &lt;chr&gt; | European.Union...15.countries..1995.2004. &lt;chr&gt; | Euro.area...19.countries...from.2015. &lt;chr&gt; | Belgium &lt;chr&gt; | Bulgaria &lt;chr&gt; | Czechia &lt;chr&gt; | Denmark &lt;chr&gt; | Germany..until.1990.former.territory.of.the.FRG. &lt;chr&gt; | ⋯ ⋯ | Slovakia &lt;chr&gt; | Finland &lt;chr&gt; | Sweden &lt;chr&gt; | Iceland &lt;chr&gt; | Norway &lt;chr&gt; | Switzerland &lt;chr&gt; | United.Kingdom &lt;chr&gt; | Turkey &lt;chr&gt; | United.States &lt;chr&gt; | Japan &lt;chr&gt; |\n|---|---|---|---|---|---|---|---|---|---|---|---|---|---|---|---|---|---|---|---|---|---|\n| 1 | 2012 | <!----> | <!----> | 14,839.67 | 13,578.89 | 16,628.54 | 1,799.23 | 5,131.47 | 18,017.05 | 15,281.22 | ⋯ | 4,244.89 | 17,022.24 | 17,836.31 | 15,475.24 | 26,292.05 | 32,470.07 | 17,743.12 | 3,744.58 | 15,099.45 | 19,341.43 |\n| 2 | 2013 | 12,061.10 | 12,812.83 | 15,014.48 | 13,842.54 | 17,057.94 | 1,899.03 | 4,958.95 | 18,200.41 | 15,528.82 | ⋯ | 4,323.21 | 17,220.64 | 18,368.84 | 16,509.42 | 26,189.65 | 32,114.13 | 17,366.32 | 3,828.92 | 14,584.84 | 15,070.71 |\n| 3 | 2014 | 12,316.46 | 13,191.90 | 15,474.12 | 14,178.34 | 17,200.17 | 2,016.86 | 4,788.23 | 18,453.01 | 15,896.52 | ⋯ | 4,486.48 | 17,275.45 | 18,036.38 | 18,605.36 | 25,156.80 | 31,366.61 | 18,478.04 | 3,700.39 | 14,955.59 | 14,271.45 |\n| 4 | 2015 | 12,485.30 | 13,716.33 | 16,102.72 | 14,384.84 | 17,433.61 | 2,169.57 | 4,959.67 | 18,632.53 | 16,254.16 | ⋯ | 4,662.07 | 17,464.81 | 17,756.62 | 20,813.95 | 24,251.43 | 35,555.48 | 21,106.19 | 4,021.79 | 18,211.87 | 15,201.86 |\n| 5 | 2016 | 12,791.48 | 13,707.31 | 16,059.12 | 14,744.53 | 18,256.11 | 2,344.52 | 5,184.11 | 18,812.99 | 16,576.26 | ⋯ | 4,765.36 | 17,803.59 | 17,927.48 | 24,428.87 | 23,948.86 | 35,833.52 | 19,258.41 | 4,437.46 | 18,577.30 | 17,148.59 |\n| 6 | 2017 | 12,979.78 | 13,781.61 | 16,084.43 | 14,907.06 | 18,658.25 | 2,566.37 | 5,620.21 | 19,108.75 | 16,849.06 | ⋯ | 4,904.54 | 18,095.29 | 18,036.92 | 27,744.23 | 24,390.44 | 35,302.06 | 18,680.71 | 3,980.39 | 18,658.96 | 16,281.16 |\n\n",
            "text/latex": "A data.frame: 6 × 39\n\\begin{tabular}{r|lllllllllllllllllllll}\n  & TIME & European.Union...27.countries..from.2020. & European.Union...28.countries..2013.2020. & European.Union...15.countries..1995.2004. & Euro.area...19.countries...from.2015. & Belgium & Bulgaria & Czechia & Denmark & Germany..until.1990.former.territory.of.the.FRG. & ⋯ & Slovakia & Finland & Sweden & Iceland & Norway & Switzerland & United.Kingdom & Turkey & United.States & Japan\\\\\n  & <int> & <chr> & <chr> & <chr> & <chr> & <chr> & <chr> & <chr> & <chr> & <chr> & ⋯ & <chr> & <chr> & <chr> & <chr> & <chr> & <chr> & <chr> & <chr> & <chr> & <chr>\\\\\n\\hline\n\t1 & 2012 &           &           & 14,839.67 & 13,578.89 & 16,628.54 & 1,799.23 & 5,131.47 & 18,017.05 & 15,281.22 & ⋯ & 4,244.89 & 17,022.24 & 17,836.31 & 15,475.24 & 26,292.05 & 32,470.07 & 17,743.12 & 3,744.58 & 15,099.45 & 19,341.43\\\\\n\t2 & 2013 & 12,061.10 & 12,812.83 & 15,014.48 & 13,842.54 & 17,057.94 & 1,899.03 & 4,958.95 & 18,200.41 & 15,528.82 & ⋯ & 4,323.21 & 17,220.64 & 18,368.84 & 16,509.42 & 26,189.65 & 32,114.13 & 17,366.32 & 3,828.92 & 14,584.84 & 15,070.71\\\\\n\t3 & 2014 & 12,316.46 & 13,191.90 & 15,474.12 & 14,178.34 & 17,200.17 & 2,016.86 & 4,788.23 & 18,453.01 & 15,896.52 & ⋯ & 4,486.48 & 17,275.45 & 18,036.38 & 18,605.36 & 25,156.80 & 31,366.61 & 18,478.04 & 3,700.39 & 14,955.59 & 14,271.45\\\\\n\t4 & 2015 & 12,485.30 & 13,716.33 & 16,102.72 & 14,384.84 & 17,433.61 & 2,169.57 & 4,959.67 & 18,632.53 & 16,254.16 & ⋯ & 4,662.07 & 17,464.81 & 17,756.62 & 20,813.95 & 24,251.43 & 35,555.48 & 21,106.19 & 4,021.79 & 18,211.87 & 15,201.86\\\\\n\t5 & 2016 & 12,791.48 & 13,707.31 & 16,059.12 & 14,744.53 & 18,256.11 & 2,344.52 & 5,184.11 & 18,812.99 & 16,576.26 & ⋯ & 4,765.36 & 17,803.59 & 17,927.48 & 24,428.87 & 23,948.86 & 35,833.52 & 19,258.41 & 4,437.46 & 18,577.30 & 17,148.59\\\\\n\t6 & 2017 & 12,979.78 & 13,781.61 & 16,084.43 & 14,907.06 & 18,658.25 & 2,566.37 & 5,620.21 & 19,108.75 & 16,849.06 & ⋯ & 4,904.54 & 18,095.29 & 18,036.92 & 27,744.23 & 24,390.44 & 35,302.06 & 18,680.71 & 3,980.39 & 18,658.96 & 16,281.16\\\\\n\\end{tabular}\n",
            "text/plain": [
              "  TIME European.Union...27.countries..from.2020.\n",
              "1 2012                                          \n",
              "2 2013 12,061.10                                \n",
              "3 2014 12,316.46                                \n",
              "4 2015 12,485.30                                \n",
              "5 2016 12,791.48                                \n",
              "6 2017 12,979.78                                \n",
              "  European.Union...28.countries..2013.2020.\n",
              "1                                          \n",
              "2 12,812.83                                \n",
              "3 13,191.90                                \n",
              "4 13,716.33                                \n",
              "5 13,707.31                                \n",
              "6 13,781.61                                \n",
              "  European.Union...15.countries..1995.2004.\n",
              "1 14,839.67                                \n",
              "2 15,014.48                                \n",
              "3 15,474.12                                \n",
              "4 16,102.72                                \n",
              "5 16,059.12                                \n",
              "6 16,084.43                                \n",
              "  Euro.area...19.countries...from.2015. Belgium   Bulgaria Czechia  Denmark  \n",
              "1 13,578.89                             16,628.54 1,799.23 5,131.47 18,017.05\n",
              "2 13,842.54                             17,057.94 1,899.03 4,958.95 18,200.41\n",
              "3 14,178.34                             17,200.17 2,016.86 4,788.23 18,453.01\n",
              "4 14,384.84                             17,433.61 2,169.57 4,959.67 18,632.53\n",
              "5 14,744.53                             18,256.11 2,344.52 5,184.11 18,812.99\n",
              "6 14,907.06                             18,658.25 2,566.37 5,620.21 19,108.75\n",
              "  Germany..until.1990.former.territory.of.the.FRG. ⋯ Slovakia Finland  \n",
              "1 15,281.22                                        ⋯ 4,244.89 17,022.24\n",
              "2 15,528.82                                        ⋯ 4,323.21 17,220.64\n",
              "3 15,896.52                                        ⋯ 4,486.48 17,275.45\n",
              "4 16,254.16                                        ⋯ 4,662.07 17,464.81\n",
              "5 16,576.26                                        ⋯ 4,765.36 17,803.59\n",
              "6 16,849.06                                        ⋯ 4,904.54 18,095.29\n",
              "  Sweden    Iceland   Norway    Switzerland United.Kingdom Turkey  \n",
              "1 17,836.31 15,475.24 26,292.05 32,470.07   17,743.12      3,744.58\n",
              "2 18,368.84 16,509.42 26,189.65 32,114.13   17,366.32      3,828.92\n",
              "3 18,036.38 18,605.36 25,156.80 31,366.61   18,478.04      3,700.39\n",
              "4 17,756.62 20,813.95 24,251.43 35,555.48   21,106.19      4,021.79\n",
              "5 17,927.48 24,428.87 23,948.86 35,833.52   19,258.41      4,437.46\n",
              "6 18,036.92 27,744.23 24,390.44 35,302.06   18,680.71      3,980.39\n",
              "  United.States Japan    \n",
              "1 15,099.45     19,341.43\n",
              "2 14,584.84     15,070.71\n",
              "3 14,955.59     14,271.45\n",
              "4 18,211.87     15,201.86\n",
              "5 18,577.30     17,148.59\n",
              "6 18,658.96     16,281.16"
            ]
          },
          "metadata": {}
        }
      ]
    },
    {
      "cell_type": "code",
      "source": [
        "tail(data)"
      ],
      "metadata": {
        "colab": {
          "base_uri": "https://localhost:8080/",
          "height": 286
        },
        "id": "_pmuZ3ea04JC",
        "outputId": "196f3a89-75d6-4b3c-b22a-83d366e377b5"
      },
      "execution_count": 66,
      "outputs": [
        {
          "output_type": "display_data",
          "data": {
            "text/html": [
              "<table class=\"dataframe\">\n",
              "<caption>A data.frame: 6 × 39</caption>\n",
              "<thead>\n",
              "\t<tr><th></th><th scope=col>TIME</th><th scope=col>European.Union...27.countries..from.2020.</th><th scope=col>European.Union...28.countries..2013.2020.</th><th scope=col>European.Union...15.countries..1995.2004.</th><th scope=col>Euro.area...19.countries...from.2015.</th><th scope=col>Belgium</th><th scope=col>Bulgaria</th><th scope=col>Czechia</th><th scope=col>Denmark</th><th scope=col>Germany..until.1990.former.territory.of.the.FRG.</th><th scope=col>⋯</th><th scope=col>Slovakia</th><th scope=col>Finland</th><th scope=col>Sweden</th><th scope=col>Iceland</th><th scope=col>Norway</th><th scope=col>Switzerland</th><th scope=col>United.Kingdom</th><th scope=col>Turkey</th><th scope=col>United.States</th><th scope=col>Japan</th></tr>\n",
              "\t<tr><th></th><th scope=col>&lt;int&gt;</th><th scope=col>&lt;chr&gt;</th><th scope=col>&lt;chr&gt;</th><th scope=col>&lt;chr&gt;</th><th scope=col>&lt;chr&gt;</th><th scope=col>&lt;chr&gt;</th><th scope=col>&lt;chr&gt;</th><th scope=col>&lt;chr&gt;</th><th scope=col>&lt;chr&gt;</th><th scope=col>&lt;chr&gt;</th><th scope=col>⋯</th><th scope=col>&lt;chr&gt;</th><th scope=col>&lt;chr&gt;</th><th scope=col>&lt;chr&gt;</th><th scope=col>&lt;chr&gt;</th><th scope=col>&lt;chr&gt;</th><th scope=col>&lt;chr&gt;</th><th scope=col>&lt;chr&gt;</th><th scope=col>&lt;chr&gt;</th><th scope=col>&lt;chr&gt;</th><th scope=col>&lt;chr&gt;</th></tr>\n",
              "</thead>\n",
              "<tbody>\n",
              "\t<tr><th scope=row>5</th><td>2016</td><td>12,791.48</td><td>13,707.31</td><td>16,059.12</td><td>14,744.53</td><td>18,256.11</td><td>2,344.52</td><td>5,184.11</td><td>18,812.99</td><td>16,576.26</td><td>⋯</td><td>4,765.36</td><td>17,803.59</td><td>17,927.48</td><td>24,428.87</td><td>23,948.86</td><td>35,833.52</td><td>19,258.41</td><td>4,437.46</td><td>18,577.30</td><td>17,148.59</td></tr>\n",
              "\t<tr><th scope=row>6</th><td>2017</td><td>12,979.78</td><td>13,781.61</td><td>16,084.43</td><td>14,907.06</td><td>18,658.25</td><td>2,566.37</td><td>5,620.21</td><td>19,108.75</td><td>16,849.06</td><td>⋯</td><td>4,904.54</td><td>18,095.29</td><td>18,036.92</td><td>27,744.23</td><td>24,390.44</td><td>35,302.06</td><td>18,680.71</td><td>3,980.39</td><td>18,658.96</td><td>16,281.16</td></tr>\n",
              "\t<tr><th scope=row>7</th><td>2018</td><td>13,331.76</td><td>14,136.22</td><td>16,431.59</td><td>15,282.19</td><td>19,425.90</td><td>2,723.55</td><td>6,112.43</td><td>19,704.34</td><td>17,385.35</td><td>⋯</td><td>5,135.84</td><td>18,452.87</td><td>17,379.83</td><td>26,812.44</td><td>24,531.37</td><td>34,334.87</td><td>19,049.99</td><td>3,336.36</td><td>18,717.95</td><td>15,996.17</td></tr>\n",
              "\t<tr><th scope=row>8</th><td>2019</td><td>13,881.88</td><td>14,724.67</td><td>17,076.57</td><td>15,907.23</td><td>20,123.43</td><td>3,046.51</td><td>6,480.17</td><td>20,139.77</td><td>17,972.35</td><td>⋯</td><td>5,378.60</td><td>18,934.41</td><td>17,278.24</td><td>25,986.30</td><td>24,821.44</td><td>36,180.44</td><td>19,958.94</td><td>3,773.93</td><td>20,284.07</td><td>17,143.03</td></tr>\n",
              "\t<tr><th scope=row>9</th><td>2020</td><td>13,935.89</td><td>         </td><td>17,142.58</td><td>15,925.35</td><td>20,399.58</td><td>3,306.39</td><td>6,371.50</td><td>20,589.68</td><td>17,839.29</td><td>⋯</td><td>5,553.26</td><td>19,181.36</td><td>17,783.74</td><td>24,421.15</td><td>23,292.64</td><td>37,303.77</td><td>         </td><td>3,509.65</td><td>22,442.47</td><td>16,725.33</td></tr>\n",
              "\t<tr><th scope=row>10</th><td>2021</td><td>14,436.75</td><td>         </td><td>17,881.31</td><td>16,437.69</td><td>20,733.43</td><td>3,476.07</td><td>7,367.61</td><td>21,388.74</td><td>18,509.12</td><td>⋯</td><td>5,793.60</td><td>19,686.96</td><td>19,402.09</td><td>27,052.03</td><td>25,705.80</td><td>38,084.66</td><td>         </td><td>3,208.82</td><td>22,428.62</td><td>15,881.84</td></tr>\n",
              "</tbody>\n",
              "</table>\n"
            ],
            "text/markdown": "\nA data.frame: 6 × 39\n\n| <!--/--> | TIME &lt;int&gt; | European.Union...27.countries..from.2020. &lt;chr&gt; | European.Union...28.countries..2013.2020. &lt;chr&gt; | European.Union...15.countries..1995.2004. &lt;chr&gt; | Euro.area...19.countries...from.2015. &lt;chr&gt; | Belgium &lt;chr&gt; | Bulgaria &lt;chr&gt; | Czechia &lt;chr&gt; | Denmark &lt;chr&gt; | Germany..until.1990.former.territory.of.the.FRG. &lt;chr&gt; | ⋯ ⋯ | Slovakia &lt;chr&gt; | Finland &lt;chr&gt; | Sweden &lt;chr&gt; | Iceland &lt;chr&gt; | Norway &lt;chr&gt; | Switzerland &lt;chr&gt; | United.Kingdom &lt;chr&gt; | Turkey &lt;chr&gt; | United.States &lt;chr&gt; | Japan &lt;chr&gt; |\n|---|---|---|---|---|---|---|---|---|---|---|---|---|---|---|---|---|---|---|---|---|---|\n| 5 | 2016 | 12,791.48 | 13,707.31 | 16,059.12 | 14,744.53 | 18,256.11 | 2,344.52 | 5,184.11 | 18,812.99 | 16,576.26 | ⋯ | 4,765.36 | 17,803.59 | 17,927.48 | 24,428.87 | 23,948.86 | 35,833.52 | 19,258.41 | 4,437.46 | 18,577.30 | 17,148.59 |\n| 6 | 2017 | 12,979.78 | 13,781.61 | 16,084.43 | 14,907.06 | 18,658.25 | 2,566.37 | 5,620.21 | 19,108.75 | 16,849.06 | ⋯ | 4,904.54 | 18,095.29 | 18,036.92 | 27,744.23 | 24,390.44 | 35,302.06 | 18,680.71 | 3,980.39 | 18,658.96 | 16,281.16 |\n| 7 | 2018 | 13,331.76 | 14,136.22 | 16,431.59 | 15,282.19 | 19,425.90 | 2,723.55 | 6,112.43 | 19,704.34 | 17,385.35 | ⋯ | 5,135.84 | 18,452.87 | 17,379.83 | 26,812.44 | 24,531.37 | 34,334.87 | 19,049.99 | 3,336.36 | 18,717.95 | 15,996.17 |\n| 8 | 2019 | 13,881.88 | 14,724.67 | 17,076.57 | 15,907.23 | 20,123.43 | 3,046.51 | 6,480.17 | 20,139.77 | 17,972.35 | ⋯ | 5,378.60 | 18,934.41 | 17,278.24 | 25,986.30 | 24,821.44 | 36,180.44 | 19,958.94 | 3,773.93 | 20,284.07 | 17,143.03 |\n| 9 | 2020 | 13,935.89 | <!----> | 17,142.58 | 15,925.35 | 20,399.58 | 3,306.39 | 6,371.50 | 20,589.68 | 17,839.29 | ⋯ | 5,553.26 | 19,181.36 | 17,783.74 | 24,421.15 | 23,292.64 | 37,303.77 | <!----> | 3,509.65 | 22,442.47 | 16,725.33 |\n| 10 | 2021 | 14,436.75 | <!----> | 17,881.31 | 16,437.69 | 20,733.43 | 3,476.07 | 7,367.61 | 21,388.74 | 18,509.12 | ⋯ | 5,793.60 | 19,686.96 | 19,402.09 | 27,052.03 | 25,705.80 | 38,084.66 | <!----> | 3,208.82 | 22,428.62 | 15,881.84 |\n\n",
            "text/latex": "A data.frame: 6 × 39\n\\begin{tabular}{r|lllllllllllllllllllll}\n  & TIME & European.Union...27.countries..from.2020. & European.Union...28.countries..2013.2020. & European.Union...15.countries..1995.2004. & Euro.area...19.countries...from.2015. & Belgium & Bulgaria & Czechia & Denmark & Germany..until.1990.former.territory.of.the.FRG. & ⋯ & Slovakia & Finland & Sweden & Iceland & Norway & Switzerland & United.Kingdom & Turkey & United.States & Japan\\\\\n  & <int> & <chr> & <chr> & <chr> & <chr> & <chr> & <chr> & <chr> & <chr> & <chr> & ⋯ & <chr> & <chr> & <chr> & <chr> & <chr> & <chr> & <chr> & <chr> & <chr> & <chr>\\\\\n\\hline\n\t5 & 2016 & 12,791.48 & 13,707.31 & 16,059.12 & 14,744.53 & 18,256.11 & 2,344.52 & 5,184.11 & 18,812.99 & 16,576.26 & ⋯ & 4,765.36 & 17,803.59 & 17,927.48 & 24,428.87 & 23,948.86 & 35,833.52 & 19,258.41 & 4,437.46 & 18,577.30 & 17,148.59\\\\\n\t6 & 2017 & 12,979.78 & 13,781.61 & 16,084.43 & 14,907.06 & 18,658.25 & 2,566.37 & 5,620.21 & 19,108.75 & 16,849.06 & ⋯ & 4,904.54 & 18,095.29 & 18,036.92 & 27,744.23 & 24,390.44 & 35,302.06 & 18,680.71 & 3,980.39 & 18,658.96 & 16,281.16\\\\\n\t7 & 2018 & 13,331.76 & 14,136.22 & 16,431.59 & 15,282.19 & 19,425.90 & 2,723.55 & 6,112.43 & 19,704.34 & 17,385.35 & ⋯ & 5,135.84 & 18,452.87 & 17,379.83 & 26,812.44 & 24,531.37 & 34,334.87 & 19,049.99 & 3,336.36 & 18,717.95 & 15,996.17\\\\\n\t8 & 2019 & 13,881.88 & 14,724.67 & 17,076.57 & 15,907.23 & 20,123.43 & 3,046.51 & 6,480.17 & 20,139.77 & 17,972.35 & ⋯ & 5,378.60 & 18,934.41 & 17,278.24 & 25,986.30 & 24,821.44 & 36,180.44 & 19,958.94 & 3,773.93 & 20,284.07 & 17,143.03\\\\\n\t9 & 2020 & 13,935.89 &           & 17,142.58 & 15,925.35 & 20,399.58 & 3,306.39 & 6,371.50 & 20,589.68 & 17,839.29 & ⋯ & 5,553.26 & 19,181.36 & 17,783.74 & 24,421.15 & 23,292.64 & 37,303.77 &           & 3,509.65 & 22,442.47 & 16,725.33\\\\\n\t10 & 2021 & 14,436.75 &           & 17,881.31 & 16,437.69 & 20,733.43 & 3,476.07 & 7,367.61 & 21,388.74 & 18,509.12 & ⋯ & 5,793.60 & 19,686.96 & 19,402.09 & 27,052.03 & 25,705.80 & 38,084.66 &           & 3,208.82 & 22,428.62 & 15,881.84\\\\\n\\end{tabular}\n",
            "text/plain": [
              "   TIME European.Union...27.countries..from.2020.\n",
              "5  2016 12,791.48                                \n",
              "6  2017 12,979.78                                \n",
              "7  2018 13,331.76                                \n",
              "8  2019 13,881.88                                \n",
              "9  2020 13,935.89                                \n",
              "10 2021 14,436.75                                \n",
              "   European.Union...28.countries..2013.2020.\n",
              "5  13,707.31                                \n",
              "6  13,781.61                                \n",
              "7  14,136.22                                \n",
              "8  14,724.67                                \n",
              "9                                           \n",
              "10                                          \n",
              "   European.Union...15.countries..1995.2004.\n",
              "5  16,059.12                                \n",
              "6  16,084.43                                \n",
              "7  16,431.59                                \n",
              "8  17,076.57                                \n",
              "9  17,142.58                                \n",
              "10 17,881.31                                \n",
              "   Euro.area...19.countries...from.2015. Belgium   Bulgaria Czechia  Denmark  \n",
              "5  14,744.53                             18,256.11 2,344.52 5,184.11 18,812.99\n",
              "6  14,907.06                             18,658.25 2,566.37 5,620.21 19,108.75\n",
              "7  15,282.19                             19,425.90 2,723.55 6,112.43 19,704.34\n",
              "8  15,907.23                             20,123.43 3,046.51 6,480.17 20,139.77\n",
              "9  15,925.35                             20,399.58 3,306.39 6,371.50 20,589.68\n",
              "10 16,437.69                             20,733.43 3,476.07 7,367.61 21,388.74\n",
              "   Germany..until.1990.former.territory.of.the.FRG. ⋯ Slovakia Finland  \n",
              "5  16,576.26                                        ⋯ 4,765.36 17,803.59\n",
              "6  16,849.06                                        ⋯ 4,904.54 18,095.29\n",
              "7  17,385.35                                        ⋯ 5,135.84 18,452.87\n",
              "8  17,972.35                                        ⋯ 5,378.60 18,934.41\n",
              "9  17,839.29                                        ⋯ 5,553.26 19,181.36\n",
              "10 18,509.12                                        ⋯ 5,793.60 19,686.96\n",
              "   Sweden    Iceland   Norway    Switzerland United.Kingdom Turkey  \n",
              "5  17,927.48 24,428.87 23,948.86 35,833.52   19,258.41      4,437.46\n",
              "6  18,036.92 27,744.23 24,390.44 35,302.06   18,680.71      3,980.39\n",
              "7  17,379.83 26,812.44 24,531.37 34,334.87   19,049.99      3,336.36\n",
              "8  17,278.24 25,986.30 24,821.44 36,180.44   19,958.94      3,773.93\n",
              "9  17,783.74 24,421.15 23,292.64 37,303.77                  3,509.65\n",
              "10 19,402.09 27,052.03 25,705.80 38,084.66                  3,208.82\n",
              "   United.States Japan    \n",
              "5  18,577.30     17,148.59\n",
              "6  18,658.96     16,281.16\n",
              "7  18,717.95     15,996.17\n",
              "8  20,284.07     17,143.03\n",
              "9  22,442.47     16,725.33\n",
              "10 22,428.62     15,881.84"
            ]
          },
          "metadata": {}
        }
      ]
    },
    {
      "cell_type": "code",
      "source": [
        "names(data)"
      ],
      "metadata": {
        "colab": {
          "base_uri": "https://localhost:8080/",
          "height": 52
        },
        "id": "7414jCQ9zlPY",
        "outputId": "fce5c176-405c-4333-e37d-35fe9f2ff14f"
      },
      "execution_count": 67,
      "outputs": [
        {
          "output_type": "display_data",
          "data": {
            "text/html": [
              "<style>\n",
              ".list-inline {list-style: none; margin:0; padding: 0}\n",
              ".list-inline>li {display: inline-block}\n",
              ".list-inline>li:not(:last-child)::after {content: \"\\00b7\"; padding: 0 .5ex}\n",
              "</style>\n",
              "<ol class=list-inline><li>'TIME'</li><li>'European.Union...27.countries..from.2020.'</li><li>'European.Union...28.countries..2013.2020.'</li><li>'European.Union...15.countries..1995.2004.'</li><li>'Euro.area...19.countries...from.2015.'</li><li>'Belgium'</li><li>'Bulgaria'</li><li>'Czechia'</li><li>'Denmark'</li><li>'Germany..until.1990.former.territory.of.the.FRG.'</li><li>'Estonia'</li><li>'Ireland'</li><li>'Greece'</li><li>'Spain'</li><li>'France'</li><li>'Croatia'</li><li>'Italy'</li><li>'Cyprus'</li><li>'Latvia'</li><li>'Lithuania'</li><li>'Luxembourg'</li><li>'Hungary'</li><li>'Malta'</li><li>'Netherlands'</li><li>'Austria'</li><li>'Poland'</li><li>'Portugal'</li><li>'Romania'</li><li>'Slovenia'</li><li>'Slovakia'</li><li>'Finland'</li><li>'Sweden'</li><li>'Iceland'</li><li>'Norway'</li><li>'Switzerland'</li><li>'United.Kingdom'</li><li>'Turkey'</li><li>'United.States'</li><li>'Japan'</li></ol>\n"
            ],
            "text/markdown": "1. 'TIME'\n2. 'European.Union...27.countries..from.2020.'\n3. 'European.Union...28.countries..2013.2020.'\n4. 'European.Union...15.countries..1995.2004.'\n5. 'Euro.area...19.countries...from.2015.'\n6. 'Belgium'\n7. 'Bulgaria'\n8. 'Czechia'\n9. 'Denmark'\n10. 'Germany..until.1990.former.territory.of.the.FRG.'\n11. 'Estonia'\n12. 'Ireland'\n13. 'Greece'\n14. 'Spain'\n15. 'France'\n16. 'Croatia'\n17. 'Italy'\n18. 'Cyprus'\n19. 'Latvia'\n20. 'Lithuania'\n21. 'Luxembourg'\n22. 'Hungary'\n23. 'Malta'\n24. 'Netherlands'\n25. 'Austria'\n26. 'Poland'\n27. 'Portugal'\n28. 'Romania'\n29. 'Slovenia'\n30. 'Slovakia'\n31. 'Finland'\n32. 'Sweden'\n33. 'Iceland'\n34. 'Norway'\n35. 'Switzerland'\n36. 'United.Kingdom'\n37. 'Turkey'\n38. 'United.States'\n39. 'Japan'\n\n\n",
            "text/latex": "\\begin{enumerate*}\n\\item 'TIME'\n\\item 'European.Union...27.countries..from.2020.'\n\\item 'European.Union...28.countries..2013.2020.'\n\\item 'European.Union...15.countries..1995.2004.'\n\\item 'Euro.area...19.countries...from.2015.'\n\\item 'Belgium'\n\\item 'Bulgaria'\n\\item 'Czechia'\n\\item 'Denmark'\n\\item 'Germany..until.1990.former.territory.of.the.FRG.'\n\\item 'Estonia'\n\\item 'Ireland'\n\\item 'Greece'\n\\item 'Spain'\n\\item 'France'\n\\item 'Croatia'\n\\item 'Italy'\n\\item 'Cyprus'\n\\item 'Latvia'\n\\item 'Lithuania'\n\\item 'Luxembourg'\n\\item 'Hungary'\n\\item 'Malta'\n\\item 'Netherlands'\n\\item 'Austria'\n\\item 'Poland'\n\\item 'Portugal'\n\\item 'Romania'\n\\item 'Slovenia'\n\\item 'Slovakia'\n\\item 'Finland'\n\\item 'Sweden'\n\\item 'Iceland'\n\\item 'Norway'\n\\item 'Switzerland'\n\\item 'United.Kingdom'\n\\item 'Turkey'\n\\item 'United.States'\n\\item 'Japan'\n\\end{enumerate*}\n",
            "text/plain": [
              " [1] \"TIME\"                                            \n",
              " [2] \"European.Union...27.countries..from.2020.\"       \n",
              " [3] \"European.Union...28.countries..2013.2020.\"       \n",
              " [4] \"European.Union...15.countries..1995.2004.\"       \n",
              " [5] \"Euro.area...19.countries...from.2015.\"           \n",
              " [6] \"Belgium\"                                         \n",
              " [7] \"Bulgaria\"                                        \n",
              " [8] \"Czechia\"                                         \n",
              " [9] \"Denmark\"                                         \n",
              "[10] \"Germany..until.1990.former.territory.of.the.FRG.\"\n",
              "[11] \"Estonia\"                                         \n",
              "[12] \"Ireland\"                                         \n",
              "[13] \"Greece\"                                          \n",
              "[14] \"Spain\"                                           \n",
              "[15] \"France\"                                          \n",
              "[16] \"Croatia\"                                         \n",
              "[17] \"Italy\"                                           \n",
              "[18] \"Cyprus\"                                          \n",
              "[19] \"Latvia\"                                          \n",
              "[20] \"Lithuania\"                                       \n",
              "[21] \"Luxembourg\"                                      \n",
              "[22] \"Hungary\"                                         \n",
              "[23] \"Malta\"                                           \n",
              "[24] \"Netherlands\"                                     \n",
              "[25] \"Austria\"                                         \n",
              "[26] \"Poland\"                                          \n",
              "[27] \"Portugal\"                                        \n",
              "[28] \"Romania\"                                         \n",
              "[29] \"Slovenia\"                                        \n",
              "[30] \"Slovakia\"                                        \n",
              "[31] \"Finland\"                                         \n",
              "[32] \"Sweden\"                                          \n",
              "[33] \"Iceland\"                                         \n",
              "[34] \"Norway\"                                          \n",
              "[35] \"Switzerland\"                                     \n",
              "[36] \"United.Kingdom\"                                  \n",
              "[37] \"Turkey\"                                          \n",
              "[38] \"United.States\"                                   \n",
              "[39] \"Japan\"                                           "
            ]
          },
          "metadata": {}
        }
      ]
    },
    {
      "cell_type": "code",
      "source": [
        "valuesEU = data[2]\n",
        "valuesEU = ts(valuesEU, start=c(2012, 1), end=c(2021, 10), frequency=12)\n",
        "ts.plot(valuesEU, main=\"Net Income eaverage\", ylab=\"Euros\")"
      ],
      "metadata": {
        "colab": {
          "base_uri": "https://localhost:8080/",
          "height": 437
        },
        "id": "ivoiGM0r0jIu",
        "outputId": "4bef294e-8b4f-4a9b-e90e-9277aa55d81a"
      },
      "execution_count": 78,
      "outputs": [
        {
          "output_type": "display_data",
          "data": {
            "text/plain": [
              "Plot with title “Net Income eaverage”"
            ],
            "image/png": "[encoded data removed]"
          },
          "metadata": {
            "image/png": {
              "width": 420,
              "height": 420
            }
          }
        }
      ]
    },
    {
      "cell_type": "code",
      "source": [
        "summary(valuesEU)"
      ],
      "metadata": {
        "colab": {
          "base_uri": "https://localhost:8080/",
          "height": 52
        },
        "id": "0ezdOFj_5-1j",
        "outputId": "62a74b0a-0c70-44e6-8d79-51c007576f38"
      },
      "execution_count": 69,
      "outputs": [
        {
          "output_type": "display_data",
          "data": {
            "text/plain": [
              "   Min. 1st Qu.  Median    Mean 3rd Qu.    Max. \n",
              "  1.000   3.000   5.000   5.432   8.000  10.000 "
            ]
          },
          "metadata": {}
        }
      ]
    },
    {
      "cell_type": "code",
      "source": [
        "end(valuesEU)"
      ],
      "metadata": {
        "colab": {
          "base_uri": "https://localhost:8080/",
          "height": 34
        },
        "id": "a5Lgcb4mD8uo",
        "outputId": "23f0ca4b-f6bc-49b6-f141-54ebb0f268c0"
      },
      "execution_count": 79,
      "outputs": [
        {
          "output_type": "display_data",
          "data": {
            "text/html": [
              "<style>\n",
              ".list-inline {list-style: none; margin:0; padding: 0}\n",
              ".list-inline>li {display: inline-block}\n",
              ".list-inline>li:not(:last-child)::after {content: \"\\00b7\"; padding: 0 .5ex}\n",
              "</style>\n",
              "<ol class=list-inline><li>2021</li><li>10</li></ol>\n"
            ],
            "text/markdown": "1. 2021\n2. 10\n\n\n",
            "text/latex": "\\begin{enumerate*}\n\\item 2021\n\\item 10\n\\end{enumerate*}\n",
            "text/plain": [
              "[1] 2021   10"
            ]
          },
          "metadata": {}
        }
      ]
    },
    {
      "cell_type": "code",
      "source": [
        "# Remove first and last columns and then transpose the data set and then converted to a vector \n",
        "temp = as.vector(t(data[,-c(1, 39)]))"
      ],
      "metadata": {
        "id": "EbLZYtVrYJ1U"
      },
      "execution_count": 81,
      "outputs": []
    },
    {
      "cell_type": "code",
      "source": [
        "head(temp)"
      ],
      "metadata": {
        "colab": {
          "base_uri": "https://localhost:8080/",
          "height": 34
        },
        "id": "2h-rQRBdYODy",
        "outputId": "73b6f0ea-2810-46b9-fa8b-f019d9cdcaf2"
      },
      "execution_count": 82,
      "outputs": [
        {
          "output_type": "display_data",
          "data": {
            "text/html": [
              "<style>\n",
              ".list-inline {list-style: none; margin:0; padding: 0}\n",
              ".list-inline>li {display: inline-block}\n",
              ".list-inline>li:not(:last-child)::after {content: \"\\00b7\"; padding: 0 .5ex}\n",
              "</style>\n",
              "<ol class=list-inline><li>''</li><li>''</li><li>'14,839.67'</li><li>'13,578.89'</li><li>'16,628.54'</li><li>'1,799.23'</li></ol>\n"
            ],
            "text/markdown": "1. ''\n2. ''\n3. '14,839.67'\n4. '13,578.89'\n5. '16,628.54'\n6. '1,799.23'\n\n\n",
            "text/latex": "\\begin{enumerate*}\n\\item ''\n\\item ''\n\\item '14,839.67'\n\\item '13,578.89'\n\\item '16,628.54'\n\\item '1,799.23'\n\\end{enumerate*}\n",
            "text/plain": [
              "[1] \"\"          \"\"          \"14,839.67\" \"13,578.89\" \"16,628.54\" \"1,799.23\" "
            ]
          },
          "metadata": {}
        }
      ]
    },
    {
      "cell_type": "code",
      "source": [
        "#convert it to time series ts object with starting year 1879 and frequency 12 month\n",
        "temp = ts(temp,start=2012,frequency=39)"
      ],
      "metadata": {
        "id": "J9gXTDvgbIB0"
      },
      "execution_count": 89,
      "outputs": []
    },
    {
      "cell_type": "code",
      "source": [
        "#print the top 10 values\n",
        "head(temp,10)\n",
        "#temp"
      ],
      "metadata": {
        "colab": {
          "base_uri": "https://localhost:8080/",
          "height": 52
        },
        "id": "8dUR7YVsbPui",
        "outputId": "475cb87e-5d47-46da-e94e-258682f88f94"
      },
      "execution_count": 90,
      "outputs": [
        {
          "output_type": "display_data",
          "data": {
            "text/html": [
              "A Time Series:<br><style>\n",
              ".list-inline {list-style: none; margin:0; padding: 0}\n",
              ".list-inline>li {display: inline-block}\n",
              ".list-inline>li:not(:last-child)::after {content: \"\\00b7\"; padding: 0 .5ex}\n",
              "</style>\n",
              "<ol class=list-inline><li>''</li><li>''</li><li>'14,839.67'</li><li>'13,578.89'</li><li>'16,628.54'</li><li>'1,799.23'</li><li>'5,131.47'</li><li>'18,017.05'</li><li>'15,281.22'</li><li>'4,587.77'</li></ol>\n"
            ],
            "text/markdown": "A Time Series:  \n1. ''\n2. ''\n3. '14,839.67'\n4. '13,578.89'\n5. '16,628.54'\n6. '1,799.23'\n7. '5,131.47'\n8. '18,017.05'\n9. '15,281.22'\n10. '4,587.77'\n\n\n",
            "text/latex": "A Time Series:\\\\\\begin{enumerate*}\n\\item ''\n\\item ''\n\\item '14,839.67'\n\\item '13,578.89'\n\\item '16,628.54'\n\\item '1,799.23'\n\\item '5,131.47'\n\\item '18,017.05'\n\\item '15,281.22'\n\\item '4,587.77'\n\\end{enumerate*}\n",
            "text/plain": [
              "A Time Series:\n",
              " [1] \"\"          \"\"          \"14,839.67\" \"13,578.89\" \"16,628.54\" \"1,799.23\" \n",
              " [7] \"5,131.47\"  \"18,017.05\" \"15,281.22\" \"4,587.77\" "
            ]
          },
          "metadata": {}
        }
      ]
    },
    {
      "cell_type": "code",
      "execution_count": 91,
      "metadata": {
        "colab": {
          "base_uri": "https://localhost:8080/",
          "height": 1000
        },
        "id": "tPHY2h7vsNgS",
        "outputId": "c131fdba-2347-493a-95bd-8a93c0246ea0"
      },
      "outputs": [
        {
          "output_type": "stream",
          "name": "stderr",
          "text": [
            "Warning message in xy.coords(x, NULL, log = log, setLab = FALSE):\n",
            "“NAs introduced by coercion”\n",
            "Warning message in min(x):\n",
            "“no non-missing arguments to min; returning Inf”\n",
            "Warning message in max(x):\n",
            "“no non-missing arguments to max; returning -Inf”\n"
          ]
        },
        {
          "output_type": "error",
          "ename": "ERROR",
          "evalue": "ignored",
          "traceback": [
            "Error in plot.window(xlim, ylim, log, ...): need finite 'ylim' values\nTraceback:\n",
            "1. ts.plot(temp, ylab = \"Co2\")",
            "2. do.call(\"plot.ts\", c(list(sers, plot.type = \"single\"), gpars))",
            "3. plot.ts(structure(c(\"\", \"\", \"14,839.67\", \"13,578.89\", \"16,628.54\", \n . \"1,799.23\", \"5,131.47\", \"18,017.05\", \"15,281.22\", \"4,587.77\", \n . \"18,913.88\", \"9,265.39\", \"11,446.04\", \"14,418.13\", \"\", \"11,366.63\", \n . \"\", \"2,827.38\", \"2,982.08\", \"21,777.19\", \"3,215.68\", \"8,944.13\", \n . \"18,390.76\", \"15,930.77\", \"3,712.90\", \"7,582.80\", \"2,083.82\", \n . \"6,757.80\", \"4,244.89\", \"17,022.24\", \"17,836.31\", \"15,475.24\", \n . \"26,292.05\", \"32,470.07\", \"17,743.12\", \"3,744.58\", \"15,099.45\", \n . \"12,061.10\", \"12,812.83\", \"15,014.48\", \"13,842.54\", \"17,057.94\", \n . \"1,899.03\", \"4,958.95\", \"18,200.41\", \"15,528.82\", \"4,904.29\", \n . \"18,832.07\", \"8,809.71\", \"11,478.96\", \"14,841.75\", \"4,346.31\", \n . \"11,531.76\", \"\", \"2,980.64\", \"3,141.66\", \"22,244.21\", \"3,237.54\", \n . \"9,168.00\", \"18,830.55\", \"16,135.38\", \"3,827.97\", \"7,846.98\", \n . \"2,256.24\", \"6,825.42\", \"4,323.21\", \"17,220.64\", \"18,368.84\", \n . \"16,509.42\", \"26,189.65\", \"32,114.13\", \"17,366.32\", \"3,828.92\", \n . \"14,584.84\", \"12,316.46\", \"13,191.90\", \"15,474.12\", \"14,178.34\", \n . \"17,200.17\", \"2,016.86\", \"4,788.23\", \"18,453.01\", \"15,896.52\", \n . \"5,138.91\", \"18,944.27\", \"8,955.03\", \"11,519.75\", \"14,998.16\", \n . \"4,334.51\", \"12,475.05\", \"9,548.23\", \"3,240.17\", \"3,358.58\", \n . \"22,682.48\", \"3,239.21\", \"8,962.50\", \"19,602.39\", \"16,523.60\", \n . \"4,090.74\", \"7,704.26\", \"2,390.22\", \"6,915.40\", \"4,486.48\", \"17,275.45\", \n . \"18,036.38\", \"18,605.36\", \"25,156.80\", \"31,366.61\", \"18,478.04\", \n . \"3,700.39\", \"14,955.59\", \"12,485.30\", \"13,716.33\", \"16,102.72\", \n . \"14,384.84\", \"17,433.61\", \"2,169.57\", \"4,959.67\", \"18,632.53\", \n . \"16,254.16\", \"5,504.01\", \"19,243.25\", \"8,658.72\", \"11,927.12\", \n . \"14,798.86\", \"4,518.91\", \"12,859.23\", \"\", \"3,510.79\", \"3,543.18\", \n . \"22,867.92\", \"3,351.78\", \"9,128.63\", \"20,060.26\", \"16,832.55\", \n . \"4,233.16\", \"7,729.25\", \"2,641.58\", \"6,962.51\", \"4,662.07\", \"17,464.81\", \n . \"17,756.62\", \"20,813.95\", \"24,251.43\", \"35,555.48\", \"21,106.19\", \n . \"4,021.79\", \"18,211.87\", \"12,791.48\", \"13,707.31\", \"16,059.12\", \n . \"14,744.53\", \"18,256.11\", \"2,344.52\", \"5,184.11\", \"18,812.99\", \n . \"16,576.26\", \"6,211.59\", \"19,768.23\", \"8,434.73\", \"11,919.80\", \n . \"15,481.07\", \"4,656.84\", \"12,881.04\", \"\", \"3,765.26\", \"3,895.72\", \n . \"23,071.22\", \"3,569.36\", \"9,558.00\", \"21,126.06\", \"17,605.87\", \n . \"4,191.47\", \"7,821.93\", \"2,877.90\", \"7,043.00\", \"4,765.36\", \"17,803.59\", \n . \"17,927.48\", \"24,428.87\", \"23,948.86\", \"35,833.52\", \"19,258.41\", \n . \"4,437.46\", \"18,577.30\", \"12,979.78\", \"13,781.61\", \"16,084.43\", \n . \"14,907.06\", \"18,658.25\", \"2,566.37\", \"5,620.21\", \"19,108.75\", \n . \"16,849.06\", \"6,332.72\", \"20,163.46\", \"8,363.46\", \"11,947.71\", \n . \"15,536.88\", \"4,981.71\", \"12,905.38\", \"9,769.51\", \"4,088.36\", \n . \"4,398.84\", \"24,487.18\", \"4,011.86\", \"9,776.63\", \"21,461.92\", \n . \"18,080.85\", \"4,533.85\", \"8,001.39\", \"3,151.05\", \"7,206.92\", \n . \"4,904.54\", \"18,095.29\", \"18,036.92\", \"27,744.23\", \"24,390.44\", \n . \"35,302.06\", \"18,680.71\", \"3,980.39\", \"18,658.96\", \"13,331.76\", \n . \"14,136.22\", \"16,431.59\", \"15,282.19\", \"19,425.90\", \"2,723.55\", \n . \"6,112.43\", \"19,704.34\", \"17,385.35\", \"7,392.97\", \"20,837.37\", \n . \"8,368.08\", \"12,376.67\", \"15,880.40\", \"5,281.28\", \"12,989.48\", \n . \"10,079.30\", \"4,665.98\", \"4,867.33\", \"25,016.42\", \"4,293.47\", \n . \"10,114.13\", \"21,703.80\", \"18,428.12\", \"4,880.76\", \"8,312.79\", \n . \"3,458.56\", \"7,445.76\", \"5,135.84\", \"18,452.87\", \"17,379.83\", \n . \"26,812.44\", \"24,531.37\", \"34,334.87\", \"19,049.99\", \"3,336.36\", \n . \"18,717.95\", \"13,881.88\", \"14,724.67\", \"17,076.57\", \"15,907.23\", \n . \"20,123.43\", \"3,046.51\", \"6,480.17\", \"20,139.77\", \"17,972.35\", \n . \"7,819.06\", \"21,441.68\", \"8,516.82\", \"12,779.70\", \"17,167.75\", \n . \"5,465.73\", \"13,118.15\", \"10,239.22\", \"5,032.02\", \"5,357.36\", \n . \"26,200.70\", \"4,695.27\", \"10,765.88\", \"22,615.39\", \"19,042.15\", \n . \"5,210.09\", \"8,709.77\", \"3,717.66\", \"7,673.47\", \"5,378.60\", \"18,934.41\", \n . \"17,278.24\", \"25,986.30\", \"24,821.44\", \"36,180.44\", \"19,958.94\", \n . \"3,773.93\", \"20,284.07\", \"13,935.89\", \"\", \"17,142.58\", \"15,925.35\", \n . \"20,399.58\", \"3,306.39\", \"6,371.50\", \"20,589.68\", \"17,839.29\", \n . \"7,979.17\", \"21,822.94\", \"7,956.89\", \"12,187.64\", \"16,919.23\", \n . \"5,585.69\", \"13,520.48\", \"10,288.74\", \"5,510.56\", \"6,012.18\", \n . \"27,177.33\", \"4,774.61\", \"11,078.25\", \"23,508.56\", \"19,859.67\", \n . \"5,302.95\", \"8,881.77\", \"3,904.18\", \"8,075.27\", \"5,553.26\", \"19,181.36\", \n . \"17,783.74\", \"24,421.15\", \"23,292.64\", \"37,303.77\", \"\", \"3,509.65\", \n . \"22,442.47\", \"14,436.75\", \"\", \"17,881.31\", \"16,437.69\", \"20,733.43\", \n . \"3,476.07\", \"7,367.61\", \"21,388.74\", \"18,509.12\", \"8,414.18\", \n . \"22,099.71\", \"8,086.13\", \"12,564.21\", \"17,423.38\", \"5,703.32\", \n . \"14,184.01\", \"10,542.91\", \"6,111.21\", \"6,560.61\", \"28,042.93\", \n . \"5,008.48\", \"10,346.25\", \"24,248.43\", \"20,282.66\", \"5,434.85\", \n . \"8,269.18\", \"4,073.77\", \"8,382.80\", \"5,793.60\", \"19,686.96\", \n . \"19,402.09\", \"27,052.03\", \"25,705.80\", \"38,084.66\", \"\", \"3,208.82\", \n . \"22,428.62\"), .Tsp = c(2012, 2021.46153846154, 39), class = \"ts\"), \n .     plot.type = \"single\", ylab = \"Co2\")",
            "4. plotts(x = x, y = y, plot.type = plot.type, xy.labels = xy.labels, \n .     xy.lines = xy.lines, panel = panel, nc = nc, xlabel = xlabel, \n .     ylabel = ylabel, axes = axes, ...)",
            "5. plot.window(xlim, ylim, log, ...)"
          ]
        },
        {
          "output_type": "display_data",
          "data": {
            "text/plain": [
              "plot without title"
            ],
            "image/png": "[encoded data removed]"
          },
          "metadata": {
            "image/png": {
              "width": 420,
              "height": 420
            }
          }
        }
      ],
      "source": [
        "ts.plot(temp,ylab=\"Co2\")"
      ]
    },
    {
      "cell_type": "markdown",
      "source": [
        ""
      ],
      "metadata": {
        "id": "4Kx-TT6jfqRu"
      }
    }
  ]
}