{
  "nbformat": 4,
  "nbformat_minor": 0,
  "metadata": {
    "colab": {
      "name": "CarbonEmissionsWorld.ipynb",
      "provenance": [],
      "collapsed_sections": [],
      "authorship_tag": "ABX9TyPCcWWtXrb9fIBL241K2OI6",
      "include_colab_link": true
    },
    "kernelspec": {
      "name": "ir",
      "display_name": "R"
    },
    "language_info": {
      "name": "R"
    }
  },
  "cells": [
    {
      "cell_type": "markdown",
      "metadata": {
        "id": "view-in-github",
        "colab_type": "text"
      },
      "source": [
        "<a href=\"https://colab.research.google.com/github/KaylumCassidy/CA/blob/main/CarbonEmissionsWorld.ipynb\" target=\"_parent\"><img src=\"https://colab.research.google.com/assets/colab-badge.svg\" alt=\"Open In Colab\"/></a>"
      ]
    },
    {
      "cell_type": "markdown",
      "source": [
        "### ***Carbon Dioxide Emissions of the World( 1990-2018)***"
      ],
      "metadata": {
        "id": "Y1X0JbWkfrhV"
      }
    },
    {
      "cell_type": "markdown",
      "source": [
        "Historical emissions of carbon dioxide for all countries for last 3 decades. We have data from 1990 to 2018 from also each country in the world. The unit of measurment is MtCOâ‚‚e."
      ],
      "metadata": {
        "id": "kIHH9UtyiQTT"
      }
    },
    {
      "cell_type": "code",
      "execution_count": 44,
      "metadata": {
        "id": "u1EZ-uUUTo6Q"
      },
      "outputs": [],
      "source": [
        "# https://www.kaggle.com/datasets/ankanhore545/carbon-dioxide-emissions-of-the-world\n",
        "url='https://raw.githubusercontent.com/KaylumCassidy/CA/main/historical_emissions.csv'\n",
        "\n",
        "data = read.csv(url,header=T)"
      ]
    },
    {
      "cell_type": "code",
      "source": [
        "head(data)"
      ],
      "metadata": {
        "colab": {
          "base_uri": "https://localhost:8080/",
          "height": 286
        },
        "id": "x426euuQTyvR",
        "outputId": "a4b967c9-e44a-448d-d53f-147a7a0832a1"
      },
      "execution_count": 14,
      "outputs": [
        {
          "output_type": "display_data",
          "data": {
            "text/html": [
              "<table class=\"dataframe\">\n",
              "<caption>A data.frame: 6 × 34</caption>\n",
              "<thead>\n",
              "\t<tr><th></th><th scope=col>Country</th><th scope=col>Data.source</th><th scope=col>Sector</th><th scope=col>Gas</th><th scope=col>Unit</th><th scope=col>X2018</th><th scope=col>X2017</th><th scope=col>X2016</th><th scope=col>X2015</th><th scope=col>X2014</th><th scope=col>⋯</th><th scope=col>X1999</th><th scope=col>X1998</th><th scope=col>X1997</th><th scope=col>X1996</th><th scope=col>X1995</th><th scope=col>X1994</th><th scope=col>X1993</th><th scope=col>X1992</th><th scope=col>X1991</th><th scope=col>X1990</th></tr>\n",
              "\t<tr><th></th><th scope=col>&lt;chr&gt;</th><th scope=col>&lt;chr&gt;</th><th scope=col>&lt;chr&gt;</th><th scope=col>&lt;chr&gt;</th><th scope=col>&lt;chr&gt;</th><th scope=col>&lt;dbl&gt;</th><th scope=col>&lt;dbl&gt;</th><th scope=col>&lt;dbl&gt;</th><th scope=col>&lt;dbl&gt;</th><th scope=col>&lt;dbl&gt;</th><th scope=col>⋯</th><th scope=col>&lt;dbl&gt;</th><th scope=col>&lt;dbl&gt;</th><th scope=col>&lt;dbl&gt;</th><th scope=col>&lt;dbl&gt;</th><th scope=col>&lt;dbl&gt;</th><th scope=col>&lt;dbl&gt;</th><th scope=col>&lt;dbl&gt;</th><th scope=col>&lt;dbl&gt;</th><th scope=col>&lt;dbl&gt;</th><th scope=col>&lt;chr&gt;</th></tr>\n",
              "</thead>\n",
              "<tbody>\n",
              "\t<tr><th scope=row>1</th><td>World              </td><td>CAIT</td><td>Total including LUCF</td><td>CO2</td><td>MtCO₂e</td><td>36441.55</td><td>35588.70</td><td>35160.60</td><td>34521.91</td><td>34558.59</td><td>⋯</td><td>24957.30</td><td>24895.32</td><td>25292.92</td><td>24214.92</td><td>23890.22</td><td>23260.29</td><td>23124.00</td><td>22988.29</td><td>23056.40</td><td>22849.92</td></tr>\n",
              "\t<tr><th scope=row>2</th><td>China              </td><td>CAIT</td><td>Total including LUCF</td><td>CO2</td><td>MtCO₂e</td><td> 9663.36</td><td> 9367.67</td><td> 9164.21</td><td> 9120.27</td><td> 9184.77</td><td>⋯</td><td> 2799.84</td><td> 2882.75</td><td> 2779.27</td><td> 2715.50</td><td> 2735.48</td><td> 2414.50</td><td> 2294.12</td><td> 2068.77</td><td> 1952.78</td><td>1823.96 </td></tr>\n",
              "\t<tr><th scope=row>3</th><td>United States      </td><td>CAIT</td><td>Total including LUCF</td><td>CO2</td><td>MtCO₂e</td><td> 4749.57</td><td> 4581.90</td><td> 4656.84</td><td> 4563.52</td><td> 4683.35</td><td>⋯</td><td> 5191.66</td><td> 5172.06</td><td> 5129.29</td><td> 4864.46</td><td> 4708.31</td><td> 4654.52</td><td> 4581.76</td><td> 4461.62</td><td> 4389.50</td><td>4426.4  </td></tr>\n",
              "\t<tr><th scope=row>4</th><td>European Union (27)</td><td>CAIT</td><td>Total including LUCF</td><td>CO2</td><td>MtCO₂e</td><td> 2636.99</td><td> 2692.12</td><td> 2669.54</td><td> 2321.61</td><td> 2263.78</td><td>⋯</td><td> 3079.46</td><td> 3134.03</td><td> 3142.23</td><td> 3210.93</td><td> 3113.68</td><td> 3060.09</td><td> 3072.40</td><td> 3133.06</td><td> 3247.48</td><td>3286.44 </td></tr>\n",
              "\t<tr><th scope=row>5</th><td>India              </td><td>CAIT</td><td>Total including LUCF</td><td>CO2</td><td>MtCO₂e</td><td> 2400.25</td><td> 2267.16</td><td> 2149.01</td><td> 2085.38</td><td> 2072.03</td><td>⋯</td><td>  683.00</td><td>  618.73</td><td>  600.38</td><td>  555.60</td><td>  519.98</td><td>  466.79</td><td>  431.31</td><td>  409.09</td><td>  386.17</td><td>341.32  </td></tr>\n",
              "\t<tr><th scope=row>6</th><td>Indonesia          </td><td>CAIT</td><td>Total including LUCF</td><td>CO2</td><td>MtCO₂e</td><td> 1269.55</td><td> 1081.11</td><td> 1068.10</td><td> 1574.76</td><td> 1539.23</td><td>⋯</td><td>  849.42</td><td>  907.96</td><td> 1484.56</td><td>  772.38</td><td>  909.21</td><td>  881.31</td><td>  869.88</td><td>  855.30</td><td>  846.23</td><td>832.39  </td></tr>\n",
              "</tbody>\n",
              "</table>\n"
            ],
            "text/markdown": "\nA data.frame: 6 × 34\n\n| <!--/--> | Country &lt;chr&gt; | Data.source &lt;chr&gt; | Sector &lt;chr&gt; | Gas &lt;chr&gt; | Unit &lt;chr&gt; | X2018 &lt;dbl&gt; | X2017 &lt;dbl&gt; | X2016 &lt;dbl&gt; | X2015 &lt;dbl&gt; | X2014 &lt;dbl&gt; | ⋯ ⋯ | X1999 &lt;dbl&gt; | X1998 &lt;dbl&gt; | X1997 &lt;dbl&gt; | X1996 &lt;dbl&gt; | X1995 &lt;dbl&gt; | X1994 &lt;dbl&gt; | X1993 &lt;dbl&gt; | X1992 &lt;dbl&gt; | X1991 &lt;dbl&gt; | X1990 &lt;chr&gt; |\n|---|---|---|---|---|---|---|---|---|---|---|---|---|---|---|---|---|---|---|---|---|---|\n| 1 | World               | CAIT | Total including LUCF | CO2 | MtCO₂e | 36441.55 | 35588.70 | 35160.60 | 34521.91 | 34558.59 | ⋯ | 24957.30 | 24895.32 | 25292.92 | 24214.92 | 23890.22 | 23260.29 | 23124.00 | 22988.29 | 23056.40 | 22849.92 |\n| 2 | China               | CAIT | Total including LUCF | CO2 | MtCO₂e |  9663.36 |  9367.67 |  9164.21 |  9120.27 |  9184.77 | ⋯ |  2799.84 |  2882.75 |  2779.27 |  2715.50 |  2735.48 |  2414.50 |  2294.12 |  2068.77 |  1952.78 | 1823.96  |\n| 3 | United States       | CAIT | Total including LUCF | CO2 | MtCO₂e |  4749.57 |  4581.90 |  4656.84 |  4563.52 |  4683.35 | ⋯ |  5191.66 |  5172.06 |  5129.29 |  4864.46 |  4708.31 |  4654.52 |  4581.76 |  4461.62 |  4389.50 | 4426.4   |\n| 4 | European Union (27) | CAIT | Total including LUCF | CO2 | MtCO₂e |  2636.99 |  2692.12 |  2669.54 |  2321.61 |  2263.78 | ⋯ |  3079.46 |  3134.03 |  3142.23 |  3210.93 |  3113.68 |  3060.09 |  3072.40 |  3133.06 |  3247.48 | 3286.44  |\n| 5 | India               | CAIT | Total including LUCF | CO2 | MtCO₂e |  2400.25 |  2267.16 |  2149.01 |  2085.38 |  2072.03 | ⋯ |   683.00 |   618.73 |   600.38 |   555.60 |   519.98 |   466.79 |   431.31 |   409.09 |   386.17 | 341.32   |\n| 6 | Indonesia           | CAIT | Total including LUCF | CO2 | MtCO₂e |  1269.55 |  1081.11 |  1068.10 |  1574.76 |  1539.23 | ⋯ |   849.42 |   907.96 |  1484.56 |   772.38 |   909.21 |   881.31 |   869.88 |   855.30 |   846.23 | 832.39   |\n\n",
            "text/latex": "A data.frame: 6 × 34\n\\begin{tabular}{r|lllllllllllllllllllll}\n  & Country & Data.source & Sector & Gas & Unit & X2018 & X2017 & X2016 & X2015 & X2014 & ⋯ & X1999 & X1998 & X1997 & X1996 & X1995 & X1994 & X1993 & X1992 & X1991 & X1990\\\\\n  & <chr> & <chr> & <chr> & <chr> & <chr> & <dbl> & <dbl> & <dbl> & <dbl> & <dbl> & ⋯ & <dbl> & <dbl> & <dbl> & <dbl> & <dbl> & <dbl> & <dbl> & <dbl> & <dbl> & <chr>\\\\\n\\hline\n\t1 & World               & CAIT & Total including LUCF & CO2 & MtCO₂e & 36441.55 & 35588.70 & 35160.60 & 34521.91 & 34558.59 & ⋯ & 24957.30 & 24895.32 & 25292.92 & 24214.92 & 23890.22 & 23260.29 & 23124.00 & 22988.29 & 23056.40 & 22849.92\\\\\n\t2 & China               & CAIT & Total including LUCF & CO2 & MtCO₂e &  9663.36 &  9367.67 &  9164.21 &  9120.27 &  9184.77 & ⋯ &  2799.84 &  2882.75 &  2779.27 &  2715.50 &  2735.48 &  2414.50 &  2294.12 &  2068.77 &  1952.78 & 1823.96 \\\\\n\t3 & United States       & CAIT & Total including LUCF & CO2 & MtCO₂e &  4749.57 &  4581.90 &  4656.84 &  4563.52 &  4683.35 & ⋯ &  5191.66 &  5172.06 &  5129.29 &  4864.46 &  4708.31 &  4654.52 &  4581.76 &  4461.62 &  4389.50 & 4426.4  \\\\\n\t4 & European Union (27) & CAIT & Total including LUCF & CO2 & MtCO₂e &  2636.99 &  2692.12 &  2669.54 &  2321.61 &  2263.78 & ⋯ &  3079.46 &  3134.03 &  3142.23 &  3210.93 &  3113.68 &  3060.09 &  3072.40 &  3133.06 &  3247.48 & 3286.44 \\\\\n\t5 & India               & CAIT & Total including LUCF & CO2 & MtCO₂e &  2400.25 &  2267.16 &  2149.01 &  2085.38 &  2072.03 & ⋯ &   683.00 &   618.73 &   600.38 &   555.60 &   519.98 &   466.79 &   431.31 &   409.09 &   386.17 & 341.32  \\\\\n\t6 & Indonesia           & CAIT & Total including LUCF & CO2 & MtCO₂e &  1269.55 &  1081.11 &  1068.10 &  1574.76 &  1539.23 & ⋯ &   849.42 &   907.96 &  1484.56 &   772.38 &   909.21 &   881.31 &   869.88 &   855.30 &   846.23 & 832.39  \\\\\n\\end{tabular}\n",
            "text/plain": [
              "  Country             Data.source Sector               Gas Unit   X2018   \n",
              "1 World               CAIT        Total including LUCF CO2 MtCO₂e 36441.55\n",
              "2 China               CAIT        Total including LUCF CO2 MtCO₂e  9663.36\n",
              "3 United States       CAIT        Total including LUCF CO2 MtCO₂e  4749.57\n",
              "4 European Union (27) CAIT        Total including LUCF CO2 MtCO₂e  2636.99\n",
              "5 India               CAIT        Total including LUCF CO2 MtCO₂e  2400.25\n",
              "6 Indonesia           CAIT        Total including LUCF CO2 MtCO₂e  1269.55\n",
              "  X2017    X2016    X2015    X2014    ⋯ X1999    X1998    X1997    X1996   \n",
              "1 35588.70 35160.60 34521.91 34558.59 ⋯ 24957.30 24895.32 25292.92 24214.92\n",
              "2  9367.67  9164.21  9120.27  9184.77 ⋯  2799.84  2882.75  2779.27  2715.50\n",
              "3  4581.90  4656.84  4563.52  4683.35 ⋯  5191.66  5172.06  5129.29  4864.46\n",
              "4  2692.12  2669.54  2321.61  2263.78 ⋯  3079.46  3134.03  3142.23  3210.93\n",
              "5  2267.16  2149.01  2085.38  2072.03 ⋯   683.00   618.73   600.38   555.60\n",
              "6  1081.11  1068.10  1574.76  1539.23 ⋯   849.42   907.96  1484.56   772.38\n",
              "  X1995    X1994    X1993    X1992    X1991    X1990   \n",
              "1 23890.22 23260.29 23124.00 22988.29 23056.40 22849.92\n",
              "2  2735.48  2414.50  2294.12  2068.77  1952.78 1823.96 \n",
              "3  4708.31  4654.52  4581.76  4461.62  4389.50 4426.4  \n",
              "4  3113.68  3060.09  3072.40  3133.06  3247.48 3286.44 \n",
              "5   519.98   466.79   431.31   409.09   386.17 341.32  \n",
              "6   909.21   881.31   869.88   855.30   846.23 832.39  "
            ]
          },
          "metadata": {}
        }
      ]
    },
    {
      "cell_type": "code",
      "source": [
        "# Remove first and last columns and then transpose the data set and then converted to a vector \n",
        "temp = as.vector(t(data[,-c(6, 34)]))"
      ],
      "metadata": {
        "id": "EbLZYtVrYJ1U"
      },
      "execution_count": 35,
      "outputs": []
    },
    {
      "cell_type": "code",
      "source": [
        "head(temp)"
      ],
      "metadata": {
        "colab": {
          "base_uri": "https://localhost:8080/",
          "height": 34
        },
        "id": "2h-rQRBdYODy",
        "outputId": "0f18bf52-a8ad-4cd2-e62e-f8a3ee9f2f94"
      },
      "execution_count": 36,
      "outputs": [
        {
          "output_type": "display_data",
          "data": {
            "text/html": [
              "<style>\n",
              ".list-inline {list-style: none; margin:0; padding: 0}\n",
              ".list-inline>li {display: inline-block}\n",
              ".list-inline>li:not(:last-child)::after {content: \"\\00b7\"; padding: 0 .5ex}\n",
              "</style>\n",
              "<ol class=list-inline><li>'World'</li><li>'CAIT'</li><li>'Total including LUCF'</li><li>'CO2'</li><li>'MtCO₂e'</li><li>'35588.70'</li></ol>\n"
            ],
            "text/markdown": "1. 'World'\n2. 'CAIT'\n3. 'Total including LUCF'\n4. 'CO2'\n5. 'MtCO₂e'\n6. '35588.70'\n\n\n",
            "text/latex": "\\begin{enumerate*}\n\\item 'World'\n\\item 'CAIT'\n\\item 'Total including LUCF'\n\\item 'CO2'\n\\item 'MtCO₂e'\n\\item '35588.70'\n\\end{enumerate*}\n",
            "text/plain": [
              "[1] \"World\"                \"CAIT\"                 \"Total including LUCF\"\n",
              "[4] \"CO2\"                  \"MtCO₂e\"               \"35588.70\"            "
            ]
          },
          "metadata": {}
        }
      ]
    },
    {
      "cell_type": "code",
      "source": [
        "#convert it to time series ts object with starting year 1879 and frequency 12 month\n",
        "temp = ts(temp,start=2018,frequency=15)"
      ],
      "metadata": {
        "id": "J9gXTDvgbIB0"
      },
      "execution_count": 40,
      "outputs": []
    },
    {
      "cell_type": "code",
      "source": [
        "#print the top 10 values\n",
        "head(temp,10)\n",
        "#temp"
      ],
      "metadata": {
        "colab": {
          "base_uri": "https://localhost:8080/",
          "height": 34
        },
        "id": "8dUR7YVsbPui",
        "outputId": "862487d4-3739-4bd8-f1c7-4d19a555e1c4"
      },
      "execution_count": 41,
      "outputs": [
        {
          "output_type": "display_data",
          "data": {
            "text/html": [
              "<style>\n",
              ".list-inline {list-style: none; margin:0; padding: 0}\n",
              ".list-inline>li {display: inline-block}\n",
              ".list-inline>li:not(:last-child)::after {content: \"\\00b7\"; padding: 0 .5ex}\n",
              "</style>\n",
              "<ol class=list-inline><li>'World'</li><li>'CAIT'</li><li>'Total including LUCF'</li><li>'CO2'</li><li>'MtCO₂e'</li><li>'35588.70'</li><li>'35160.60'</li><li>'34521.91'</li><li>'34558.59'</li><li>'34217.18'</li></ol>\n"
            ],
            "text/markdown": "1. 'World'\n2. 'CAIT'\n3. 'Total including LUCF'\n4. 'CO2'\n5. 'MtCO₂e'\n6. '35588.70'\n7. '35160.60'\n8. '34521.91'\n9. '34558.59'\n10. '34217.18'\n\n\n",
            "text/latex": "\\begin{enumerate*}\n\\item 'World'\n\\item 'CAIT'\n\\item 'Total including LUCF'\n\\item 'CO2'\n\\item 'MtCO₂e'\n\\item '35588.70'\n\\item '35160.60'\n\\item '34521.91'\n\\item '34558.59'\n\\item '34217.18'\n\\end{enumerate*}\n",
            "text/plain": [
              " [1] \"World\"                \"CAIT\"                 \"Total including LUCF\"\n",
              " [4] \"CO2\"                  \"MtCO₂e\"               \"35588.70\"            \n",
              " [7] \"35160.60\"             \"34521.91\"             \"34558.59\"            \n",
              "[10] \"34217.18\"            "
            ]
          },
          "metadata": {}
        }
      ]
    },
    {
      "cell_type": "code",
      "execution_count": 43,
      "metadata": {
        "colab": {
          "base_uri": "https://localhost:8080/",
          "height": 506
        },
        "id": "tPHY2h7vsNgS",
        "outputId": "5778a90d-cfd9-462f-8ffa-bb0790e6e931"
      },
      "outputs": [
        {
          "output_type": "stream",
          "name": "stderr",
          "text": [
            "Warning message in xy.coords(x, NULL, log = log, setLab = FALSE):\n",
            "“NAs introduced by coercion”\n",
            "Warning message in xy.coords(x, y):\n",
            "“NAs introduced by coercion”\n"
          ]
        },
        {
          "output_type": "display_data",
          "data": {
            "text/plain": [
              "plot without title"
            ],
            "image/png": "[encoded data removed]"
          },
          "metadata": {
            "image/png": {
              "width": 420,
              "height": 420
            }
          }
        }
      ],
      "source": [
        "ts.plot(temp,ylab=\"Co2\")"
      ]
    },
    {
      "cell_type": "markdown",
      "source": [
        ""
      ],
      "metadata": {
        "id": "4Kx-TT6jfqRu"
      }
    }
  ]
}